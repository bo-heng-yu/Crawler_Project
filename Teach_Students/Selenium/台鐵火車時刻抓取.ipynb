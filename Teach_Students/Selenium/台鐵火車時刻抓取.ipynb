{
 "cells": [
  {
   "cell_type": "code",
   "execution_count": 1,
   "metadata": {
    "scrolled": true
   },
   "outputs": [],
   "source": [
    "from selenium import webdriver\n",
    "import time"
   ]
  },
  {
   "cell_type": "code",
   "execution_count": 2,
   "metadata": {},
   "outputs": [],
   "source": [
    "driver=webdriver.Chrome('~/chromedriver')\n",
    "url=driver.get('https://www.railway.gov.tw/tra-tip-web/tip')"
   ]
  },
  {
   "cell_type": "code",
   "execution_count": 3,
   "metadata": {},
   "outputs": [],
   "source": [
    "driver.find_element_by_name(\"startStation\").send_keys('花蓮')\n",
    "driver.find_element_by_name(\"endStation\").send_keys('台北')\n",
    "driver.find_element_by_name(\"rideDate\").send_keys('20200520')\n",
    "driver.find_element_by_xpath(\"/html//form[@id='queryForm']//input[@title='查詢']\").click()"
   ]
  },
  {
   "cell_type": "code",
   "execution_count": 4,
   "metadata": {},
   "outputs": [],
   "source": [
    "import requests\n",
    "from bs4 import BeautifulSoup"
   ]
  },
  {
   "cell_type": "code",
   "execution_count": 5,
   "metadata": {},
   "outputs": [
    {
     "name": "stdout",
     "output_type": "stream",
     "text": [
      "普悠瑪203 06:01 08:19 2 小時 18 分 $ 440 $ 220\n",
      "莒光605 06:05 09:36 3 小時 31 分 $ 340 $ 170\n",
      "太魯閣401 06:38 08:42 2 小時 4 分 $ 440 $ 220\n",
      "普悠瑪207 07:28 09:48 2 小時 20 分 $ 440 $ 220\n",
      "普悠瑪211 08:38 10:52 2 小時 14 分 $ 440 $ 220\n",
      "自強407 09:15 12:28 3 小時 13 分 $ 427 $ 214\n",
      "普悠瑪411 09:44 11:59 2 小時 15 分 $ 440 $ 220\n",
      "莒光561 09:54 13:37 3 小時 43 分 $ 340 $ 170\n",
      "普悠瑪271 10:26 12:42 2 小時 16 分 $ 440 $ 220\n",
      "普悠瑪217 11:08 13:21 2 小時 13 分 $ 440 $ 220\n",
      "莒光2 11:09 21:40 10 小時 31 分 $ 1,193 $ 597\n",
      "區間4177 11:24 15:49 4 小時 25 分 $ 283 $ 142\n",
      "太魯閣219 12:00 14:12 2 小時 12 分 $ 440 $ 220\n",
      "自強221 12:15 14:50 2 小時 35 分 $ 427 $ 214\n",
      "太魯閣417 12:54 15:07 2 小時 13 分 $ 440 $ 220\n",
      "自強175 12:58 15:57 2 小時 59 分 $ 440 $ 220\n",
      "普悠瑪273 13:26 15:41 2 小時 15 分 $ 440 $ 220\n",
      "普悠瑪223 13:59 16:26 2 小時 27 分 $ 440 $ 220\n",
      "太魯閣421 14:40 16:40 2 小時 0 分 $ 440 $ 220\n",
      "自強177 14:46 17:46 3 小時 0 分 $ 440 $ 220\n",
      "莒光653 14:58 19:12 4 小時 14 分 $ 340 $ 170\n",
      "普悠瑪225 15:25 17:37 2 小時 12 分 $ 440 $ 220\n",
      "普悠瑪425 16:00 18:16 2 小時 16 分 $ 440 $ 220\n",
      "太魯閣229 16:30 19:00 2 小時 30 分 $ 440 $ 220\n",
      "自強181 16:45 19:26 2 小時 41 分 $ 440 $ 220\n",
      "莒光1 17:08 19:52 2 小時 44 分 $ 340 $ 170\n",
      "普悠瑪431 17:25 19:38 2 小時 13 分 $ 440 $ 220\n",
      "莒光71 17:33 20:16 2 小時 43 分 $ 340 $ 170\n",
      "普悠瑪283 17:55 20:11 2 小時 16 分 $ 440 $ 220\n",
      "自強235 18:00 21:12 3 小時 12 分 $ 427 $ 214\n",
      "普悠瑪285 18:18 20:32 2 小時 14 分 $ 440 $ 220\n",
      "太魯閣441 19:20 21:20 2 小時 0 分 $ 440 $ 220\n",
      "自強439 19:30 22:00 2 小時 30 分 $ 440 $ 220\n",
      "自強241 19:35 22:26 2 小時 51 分 $ 440 $ 220\n",
      "普悠瑪247 20:30 22:46 2 小時 16 分 $ 440 $ 220\n",
      "普悠瑪445 20:40 22:53 2 小時 13 分 $ 440 $ 220\n",
      "自強251 20:55 23:58 3 小時 3 分 $ 427 $ 214\n",
      "普悠瑪447 22:00 00:12 2 小時 12 分 $ 440 $ 220\n"
     ]
    }
   ],
   "source": [
    "res = driver.page_source\n",
    "soup = BeautifulSoup(res, 'html.parser')\n",
    "\n",
    "# 關掉已經沒用的 Chrome\n",
    "driver.close()\n",
    "\n",
    "# 找要抓的東西\n",
    "targets = soup.find_all('tr', class_ = \"trip-column\")\n",
    "for target in targets:\n",
    "    train = target.find(class_='train-number').text.strip()\n",
    "    start_time = target.find_all('td')[1].text\n",
    "    end_time = target.find_all('td')[2].text\n",
    "    run_time = target.find_all('td')[3].text\n",
    "    adult_ticket_price = target.find_all('td')[6].text\n",
    "    children_ticket_price = target.find_all('td')[7].text\n",
    "    print(train, start_time, end_time, run_time, adult_ticket_price, children_ticket_price)"
   ]
  },
  {
   "cell_type": "code",
   "execution_count": null,
   "metadata": {},
   "outputs": [],
   "source": []
  }
 ],
 "metadata": {
  "kernelspec": {
   "display_name": "DataAnalysisEnv",
   "language": "python",
   "name": "dataanalysisenv"
  },
  "language_info": {
   "codemirror_mode": {
    "name": "ipython",
    "version": 3
   },
   "file_extension": ".py",
   "mimetype": "text/x-python",
   "name": "python",
   "nbconvert_exporter": "python",
   "pygments_lexer": "ipython3",
   "version": "3.7.7"
  }
 },
 "nbformat": 4,
 "nbformat_minor": 4
}
